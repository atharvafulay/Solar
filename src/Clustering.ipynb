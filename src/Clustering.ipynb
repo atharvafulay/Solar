{
 "cells": [
  {
   "cell_type": "code",
   "execution_count": 1,
   "metadata": {},
   "outputs": [],
   "source": [
    "import numpy as np\n",
    "import pandas as pd\n",
    "from matplotlib import pyplot as plt\n",
    "from sklearn.datasets.samples_generator import make_blobs\n",
    "from sklearn.cluster import KMeans\n",
    "import mysql.connector"
   ]
  },
  {
   "cell_type": "code",
   "execution_count": 11,
   "metadata": {},
   "outputs": [],
   "source": [
    "\n",
    "mydb = mysql.connector.connect(\n",
    "  host=\"127.0.0.1\",\n",
    "  user=\"root\",\n",
    "  password=\"*\",\n",
    "  database=\"solarschema\"\n",
    "#   auth_plugin='mysql_native_password'\n",
    ")\n",
    "mycursor = mydb.cursor()\n",
    "\n",
    "mycursor.execute(\"\"\"\n",
    "select * \n",
    "from solar s\n",
    "join demohousehold dh on s.region_name = dh.`GEO.id2`\n",
    "join demoracelatino dra on s.region_name = dra.`GEO.id2`\n",
    "join demorelationships dre on s.region_name = dre.`GEO.id2`\n",
    "join demosexage ds on s.region_name = ds.`GEO.id2`\n",
    "join income i on s.region_name = i.ZIPCODE\n",
    "WHERE s.count_qualified > 25\n",
    "\"\"\")\n",
    "\n",
    "myresult = mycursor.fetchall()\n",
    "\n",
    "zips = list()\n",
    "for x in myresult:\n",
    "    zips.append(x[0])\n",
    "    \n",
    "# mydb\n",
    "query = pd.read_sql_query(\"\"\"\n",
    "select * from solar s\n",
    "join demohousehold dh on s.region_name = dh.`GEO.id2`\n",
    "join demoracelatino dra on s.region_name = dra.`GEO.id2`\n",
    "join demorelationships dre on s.region_name = dre.`GEO.id2`\n",
    "join demosexage ds on s.region_name = ds.`GEO.id2`\n",
    "join income i on s.region_name = i.ZIPCODE\n",
    "WHERE s.count_qualified > 25\n",
    "\"\"\", mydb)\n",
    "df = pd.DataFrame(query)"
   ]
  },
  {
   "cell_type": "code",
   "execution_count": 12,
   "metadata": {},
   "outputs": [],
   "source": [
    "df\n",
    "df['curr_production_pct'] = 100 * df['existing_installs_count'] / df['count_qualified']\n",
    "\n",
    "df = df.dropna(0).groupby('state_name').agg('sum')\n",
    "df = df.reset_index()"
   ]
  },
  {
   "cell_type": "code",
   "execution_count": 13,
   "metadata": {},
   "outputs": [],
   "source": [
    "curr_production_pct = list(np.log(df['curr_production_pct']))\n",
    "kw_total = np.log(df['kw_total'])\n",
    "states = df['state_name']\n",
    "state=list()\n",
    "X = list()\n",
    "for i in range(len(kw_total)):\n",
    "    X.append([kw_total[i], curr_production_pct[i]])\n",
    "    state.append(states[i])"
   ]
  },
  {
   "cell_type": "code",
   "execution_count": 19,
   "metadata": {},
   "outputs": [
    {
     "data": {
      "image/png": "[encoded data removed]",
      "text/plain": [
       "<Figure size 432x288 with 1 Axes>"
      ]
     },
     "metadata": {
      "needs_background": "light"
     },
     "output_type": "display_data"
    }
   ],
   "source": [
    "dist = []\n",
    "# from \n",
    "for i in range(1, 11):\n",
    "    kmeans = KMeans(n_clusters=i, init='k-means++', max_iter=300, n_init=10, random_state=0)\n",
    "    kmeans.fit(X)\n",
    "    dist.append(kmeans.inertia_)\n",
    "plt.plot(range(1, 11), dist)\n",
    "plt.title('Elbow Method')\n",
    "plt.xlabel('Number of clusters (k)')\n",
    "plt.ylabel('Cluster Sum of Squared') # https://towardsdatascience.com/machine-learning-algorithms-part-9-k-means-example-in-python-f2ad05ed5203\n",
    "\n",
    "plt.savefig('kmeans_elbow.png')\n",
    "\n",
    "plt.show()"
   ]
  },
  {
   "cell_type": "code",
   "execution_count": 23,
   "metadata": {},
   "outputs": [
    {
     "data": {
      "text/plain": [
       "[[16.769688381317827, 2.415854598278587],\n",
       " [14.11545587847225, 0.7150157228460637],\n",
       " [17.41609089721905, 6.099910294189131],\n",
       " [16.00666511103301, 1.4805854388512136],\n",
       " [18.907052366545518, 8.276398402936435],\n",
       " [16.65670985570854, 5.9226577754937155],\n",
       " [16.19252237230612, 5.081457142530936],\n",
       " [14.783847385799758, 1.0248241569329226],\n",
       " [13.769333364511523, 2.377671499404715],\n",
       " [18.560642418553627, 7.191236685809316],\n",
       " [17.365014964224713, 3.551809046780824],\n",
       " [15.409191529266407, 5.766102999866793],\n",
       " [15.564160957502803, 1.8915036999405503],\n",
       " [17.52062043945283, 4.296169855544823],\n",
       " [16.957915416390126, 3.136234661397412],\n",
       " [15.810859640284669, 1.950916388678469],\n",
       " [16.009322875714446, 2.977430979808984],\n",
       " [16.290687443405858, 2.4645881116258],\n",
       " [16.811324140712582, 4.778499678424546],\n",
       " [14.46271549642224, 2.657255691948856],\n",
       " [16.28430893417007, 4.948011284236436],\n",
       " [16.65544482475941, 6.170960892873908],\n",
       " [17.417078715117082, 3.4770133081923884],\n",
       " [16.605948054506335, 3.8809878745634485],\n",
       " [15.89019687395816, 1.7113304603939776],\n",
       " [16.849349041632156, 4.084098884995146],\n",
       " [14.642679870091687, 1.7024890254858944],\n",
       " [15.491125601406202, 1.5655083462060309],\n",
       " [16.20043221803129, 4.944751483275855],\n",
       " [14.62758445326362, 2.6346242981997636],\n",
       " [17.181271374212848, 5.76678403307065],\n",
       " [15.812096914619673, 3.7498932542261434],\n",
       " [17.47966352282028, 6.158275580858666],\n",
       " [17.24152436568981, 4.009231803211954],\n",
       " [14.513002162831954, -1.1983367895496513],\n",
       " [17.568417590206632, 3.983113034815352],\n",
       " [16.524855969918658, 2.7064999995473853],\n",
       " [16.533109870828174, 4.767070102619423],\n",
       " [17.3136605728956, 4.861172989589399],\n",
       " [14.985797718339262, 2.4673301674810926],\n",
       " [16.792124612461325, 2.9701333970227037],\n",
       " [14.279406982391137, -0.07784536504263077],\n",
       " [17.041712024676293, 3.2707974536292523],\n",
       " [18.60015754158653, 5.4634776826640605],\n",
       " [16.199327374549107, 3.993486565460498],\n",
       " [13.090469120109457, 1.4699205404447986],\n",
       " [16.732911667692573, 3.5636008821060363],\n",
       " [17.102368128637437, 4.481608111654663],\n",
       " [14.831215491159407, 1.1231922084846222],\n",
       " [16.838422835788272, 3.731862793267908],\n",
       " [13.760034580974574, -0.4698723305209023]]"
      ]
     },
     "execution_count": 23,
     "metadata": {},
     "output_type": "execute_result"
    }
   ],
   "source": [
    "kmeans = KMeans(n_clusters=3, init='k-means++', max_iter=300, n_init=10, random_state=0)\n",
    "pred_y = kmeans.fit_predict(X)\n",
    "\n",
    "# colors = [\"red\", \"green\", \"blue\"]\n",
    "# df['color'] = pd.DataFrame(pred_y).map(lambda p: colors[p])\n",
    "\n",
    "X"
   ]
  },
  {
   "cell_type": "code",
   "execution_count": 22,
   "metadata": {},
   "outputs": [
    {
     "data": {
      "image/png": "[encoded data removed]",
      "text/plain": [
       "<Figure size 432x288 with 1 Axes>"
      ]
     },
     "metadata": {
      "needs_background": "light"
     },
     "output_type": "display_data"
    }
   ],
   "source": [
    "for i in range(len(X)):\n",
    "    if pred_y[i] == 0:\n",
    "        col = \"blue\"\n",
    "    elif pred_y[i] == 1:\n",
    "        col = \"red\"\n",
    "    elif pred_y[i] == 2:\n",
    "        col = \"green\"\n",
    "    plt.scatter(X[i][0], X[i][1], c=col)\n",
    "    \n",
    "plt.scatter(kmeans.cluster_centers_[:, 0], kmeans.cluster_centers_[:, 1],marker=\"*\", s=200, c='black')\n",
    "plt.xlabel('Log(kw_total)')\n",
    "plt.ylabel('Log(curr_production_pct)')\n",
    "plt.title('Kilowatts generated vs Percent of Full Potential')\n",
    "\n",
    "plt.savefig('kmeans_clusters.png')\n",
    "plt.show()"
   ]
  },
  {
   "cell_type": "code",
   "execution_count": 131,
   "metadata": {},
   "outputs": [],
   "source": [
    "state\n",
    "p_y = list(pred_y)\n",
    "for i in range(len(state)):\n",
    "    state[i] = [state[i], p_y[i]]"
   ]
  },
  {
   "cell_type": "code",
   "execution_count": 132,
   "metadata": {},
   "outputs": [
    {
     "data": {
      "text/plain": [
       "[['Alabama', 2],\n",
       " ['Alaska', 1],\n",
       " ['Arizona', 0],\n",
       " ['Arkansas', 1],\n",
       " ['California', 0],\n",
       " ['Colorado', 0],\n",
       " ['Connecticut', 2],\n",
       " ['Delaware', 1],\n",
       " ['District of Columbia', 1],\n",
       " ['Florida', 0],\n",
       " ['Georgia', 2],\n",
       " ['Hawaii', 0],\n",
       " ['Idaho', 1],\n",
       " ['Illinois', 2],\n",
       " ['Indiana', 2],\n",
       " ['Iowa', 1],\n",
       " ['Kansas', 2],\n",
       " ['Kentucky', 2],\n",
       " ['Louisiana', 2],\n",
       " ['Maine', 1],\n",
       " ['Maryland', 2],\n",
       " ['Massachusetts', 0],\n",
       " ['Michigan', 2],\n",
       " ['Minnesota', 2],\n",
       " ['Mississippi', 1],\n",
       " ['Missouri', 2],\n",
       " ['Montana', 1],\n",
       " ['Nebraska', 1],\n",
       " ['Nevada', 2],\n",
       " ['New Hampshire', 1],\n",
       " ['New Jersey', 0],\n",
       " ['New Mexico', 2],\n",
       " ['New York', 0],\n",
       " ['North Carolina', 2],\n",
       " ['North Dakota', 1],\n",
       " ['Ohio', 2],\n",
       " ['Oklahoma', 2],\n",
       " ['Oregon', 2],\n",
       " ['Pennsylvania', 2],\n",
       " ['Rhode Island', 1],\n",
       " ['South Carolina', 2],\n",
       " ['South Dakota', 1],\n",
       " ['Tennessee', 2],\n",
       " ['Texas', 0],\n",
       " ['Utah', 2],\n",
       " ['Vermont', 1],\n",
       " ['Virginia', 2],\n",
       " ['Washington', 2],\n",
       " ['West Virginia', 1],\n",
       " ['Wisconsin', 2],\n",
       " ['Wyoming', 1]]"
      ]
     },
     "execution_count": 132,
     "metadata": {},
     "output_type": "execute_result"
    }
   ],
   "source": [
    "state"
   ]
  },
  {
   "cell_type": "code",
   "execution_count": null,
   "metadata": {},
   "outputs": [],
   "source": []
  }
 ],
 "metadata": {
  "kernelspec": {
   "display_name": "Python 3",
   "language": "python",
   "name": "python3"
  },
  "language_info": {
   "codemirror_mode": {
    "name": "ipython",
    "version": 3
   },
   "file_extension": ".py",
   "mimetype": "text/x-python",
   "name": "python",
   "nbconvert_exporter": "python",
   "pygments_lexer": "ipython3",
   "version": "3.7.5"
  }
 },
 "nbformat": 4,
 "nbformat_minor": 2
}
